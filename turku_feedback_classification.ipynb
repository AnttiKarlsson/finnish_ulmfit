{
 "cells": [
  {
   "cell_type": "code",
   "execution_count": 1,
   "metadata": {},
   "outputs": [
    {
     "name": "stdout",
     "output_type": "stream",
     "text": [
      "env: CUDA_DEVICE_ORDER=PCI_BUS_ID\n",
      "env: CUDA_VISIBLE_DEVICES=0\n"
     ]
    }
   ],
   "source": [
    "## Set the environment variables for the notebook to use a specific GPU (this can be commented out if you don't need this stuff)\n",
    "%env CUDA_DEVICE_ORDER=PCI_BUS_ID\n",
    "%env CUDA_VISIBLE_DEVICES=0"
   ]
  },
  {
   "cell_type": "markdown",
   "metadata": {},
   "source": [
    "# Import necessary packages"
   ]
  },
  {
   "cell_type": "code",
   "execution_count": 1,
   "metadata": {},
   "outputs": [],
   "source": [
    "import requests\n",
    "import datetime\n",
    "import time\n",
    "import bs4\n",
    "import re\n",
    "\n",
    "\n",
    "import matplotlib.pyplot as plt\n",
    "%matplotlib inline\n",
    "\n",
    "import pandas as pd\n",
    "import numpy as np\n",
    "from sklearn.model_selection import train_test_split\n",
    "\n",
    "\n",
    "from fastai import *\n",
    "from fastai.text import * "
   ]
  },
  {
   "cell_type": "markdown",
   "metadata": {},
   "source": [
    "## 2 Download the feedbacks for years 2016-2018 from the city of Turku API"
   ]
  },
  {
   "cell_type": "code",
   "execution_count": 2,
   "metadata": {},
   "outputs": [],
   "source": [
    "urli = 'https://api.turku.fi/feedback/v1/requests.xml?start_date=2016-01-01T00:00:00Z&end_date=2018-12-31T00:00:00Z'\n",
    "response = requests.get(urli)\n",
    "soup = bs4.BeautifulSoup(response.text)"
   ]
  },
  {
   "cell_type": "code",
   "execution_count": 3,
   "metadata": {},
   "outputs": [],
   "source": [
    "requests = soup.find_all('request')"
   ]
  },
  {
   "cell_type": "code",
   "execution_count": 4,
   "metadata": {},
   "outputs": [],
   "source": [
    "data_df = list()\n",
    "for row in requests:\n",
    "    \n",
    "    try:\n",
    "        aihe = row.find('service_name').text\n",
    "    except AttributeError:\n",
    "        aihe = np.nan\n",
    "        \n",
    "    try:\n",
    "        teksti = row.find('description').text\n",
    "    except AttributeError:\n",
    "        teksti = np.nan    \n",
    "\n",
    "    try:\n",
    "        pyynto_pvm = row.find('requested_datetime').text\n",
    "    except AttributeError:\n",
    "        pyynto_pvm = np.nan   \n",
    "        \n",
    "    try:\n",
    "        lat = row.find('lat').text\n",
    "    except AttributeError:\n",
    "        lat = np.nan   \n",
    "        \n",
    "    try:\n",
    "        long = row.find('long').text\n",
    "    except AttributeError:\n",
    "        long = np.nan \n",
    "        \n",
    "    try:\n",
    "        vastaus = row.find('status_notes').text\n",
    "    except AttributeError:\n",
    "        vastaus = np.nan \n",
    "        \n",
    "    try:\n",
    "        vastaus_pvm = row.find('updated_datetime').text\n",
    "    except AttributeError:\n",
    "        vastaus_pvm = np.nan \n",
    "    \n",
    "    \n",
    "    data_df.append([aihe,teksti,pyynto_pvm,lat,long,vastaus,vastaus_pvm])"
   ]
  },
  {
   "cell_type": "code",
   "execution_count": 6,
   "metadata": {},
   "outputs": [],
   "source": [
    "data_df = pd.DataFrame(data_df)\n",
    "\n",
    "data_df.columns=['aihe','palaute','palaute_pvm','lat','long','vastaus','vastaus_pvm']"
   ]
  },
  {
   "cell_type": "markdown",
   "metadata": {},
   "source": [
    "## 2.1 Write/read csv to avoid scraping again"
   ]
  },
  {
   "cell_type": "code",
   "execution_count": 8,
   "metadata": {},
   "outputs": [],
   "source": [
    "#data_df.to_csv('../data/palautteet_2016_2018.csv')\n",
    "#data_df = pd.read_csv('../data/palautteet_2017_2018.csv')"
   ]
  },
  {
   "cell_type": "markdown",
   "metadata": {},
   "source": [
    "# 3 Preprocess etc. standard stuff"
   ]
  },
  {
   "cell_type": "code",
   "execution_count": 9,
   "metadata": {},
   "outputs": [],
   "source": [
    "def puhdistin(teksti):\n",
    "    teksti=teksti.replace('\\r\\n','').replace('\\n','').replace('\\t','').replace('\\r','')\n",
    "    return(teksti)"
   ]
  },
  {
   "cell_type": "code",
   "execution_count": 10,
   "metadata": {},
   "outputs": [],
   "source": [
    "#drop data with no feedback or subject\n",
    "data_df = data_df.dropna(subset=['palaute','aihe'])"
   ]
  },
  {
   "cell_type": "code",
   "execution_count": 11,
   "metadata": {},
   "outputs": [],
   "source": [
    "#apply the cleaning function \n",
    "data_df['palaute_puhd'] =  data_df['palaute'].apply(lambda x: puhdistin(x))"
   ]
  },
  {
   "cell_type": "code",
   "execution_count": 12,
   "metadata": {},
   "outputs": [],
   "source": [
    "#parse dates\n",
    "data_df['palaute_pvm'] = pd.to_datetime(data_df['palaute_pvm'])\n",
    "data_df['palaute_pvm'] = data_df['palaute_pvm'].apply(lambda x: x.date)\n",
    "data_df['vastaus_pvm'] = pd.to_datetime(data_df['vastaus_pvm'])\n",
    "data_df['vastaus_pvm'] = data_df['vastaus_pvm'].apply(lambda x: x.date)"
   ]
  },
  {
   "cell_type": "markdown",
   "metadata": {},
   "source": [
    "# 4 Finetune the language model to all of the scraped feedback data"
   ]
  },
  {
   "cell_type": "code",
   "execution_count": 15,
   "metadata": {},
   "outputs": [],
   "source": [
    "lm_train_df = data_df[['aihe','palaute_puhd']].copy()\n",
    "lm_train_df.columns=['label','content']\n",
    "\n",
    "\n",
    "# split data into training and validation set\n",
    "lm_df_trn, lm_df_val = train_test_split(lm_train_df,test_size = 0.3, random_state = 12)"
   ]
  },
  {
   "cell_type": "code",
   "execution_count": 16,
   "metadata": {},
   "outputs": [],
   "source": [
    "#use the fastai tokenizer with lang 'fi' (spacy)\n",
    "tokenizer = Tokenizer(lang='fi', n_cpus=5)"
   ]
  },
  {
   "cell_type": "code",
   "execution_count": 17,
   "metadata": {},
   "outputs": [],
   "source": [
    "data_lm = TextLMDataBunch.from_df(tokenizer=tokenizer, train_df = lm_df_trn, valid_df = lm_df_val, path = \"\")"
   ]
  },
  {
   "cell_type": "code",
   "execution_count": 18,
   "metadata": {},
   "outputs": [],
   "source": [
    "### Here I've used hardcoded paths for the language model and vocabulary files, so change these to match your folders\n",
    "\n",
    "weights_pretrained = '/data/antti/ulmfit_kokeet/data/f60k_10epoch_bs200/lstm_orig.m/lm_best'\n",
    "itos_pretrained = '/data/antti/ulmfit_kokeet/data/f60k_10epoch_bs200/itos'\n",
    "pretrained_data = (weights_pretrained, itos_pretrained)"
   ]
  },
  {
   "cell_type": "code",
   "execution_count": 19,
   "metadata": {},
   "outputs": [],
   "source": [
    "config = awd_lstm_lm_config.copy()\n",
    "config['n_hid'] = 1150"
   ]
  },
  {
   "cell_type": "code",
   "execution_count": 20,
   "metadata": {},
   "outputs": [],
   "source": [
    "learn = language_model_learner(data_lm,arch=AWD_LSTM, config=config, pretrained_fnames=pretrained_data)"
   ]
  },
  {
   "cell_type": "code",
   "execution_count": 21,
   "metadata": {},
   "outputs": [
    {
     "data": {
      "text/html": [
       "<table border=\"1\" class=\"dataframe\">\n",
       "  <thead>\n",
       "    <tr style=\"text-align: left;\">\n",
       "      <th>epoch</th>\n",
       "      <th>train_loss</th>\n",
       "      <th>valid_loss</th>\n",
       "      <th>accuracy</th>\n",
       "      <th>time</th>\n",
       "    </tr>\n",
       "  </thead>\n",
       "  <tbody>\n",
       "    <tr>\n",
       "      <td>0</td>\n",
       "      <td>6.499756</td>\n",
       "      <td>5.395617</td>\n",
       "      <td>0.239102</td>\n",
       "      <td>00:32</td>\n",
       "    </tr>\n",
       "    <tr>\n",
       "      <td>1</td>\n",
       "      <td>5.774889</td>\n",
       "      <td>5.013926</td>\n",
       "      <td>0.251068</td>\n",
       "      <td>00:32</td>\n",
       "    </tr>\n",
       "    <tr>\n",
       "      <td>2</td>\n",
       "      <td>5.432743</td>\n",
       "      <td>4.878364</td>\n",
       "      <td>0.260029</td>\n",
       "      <td>00:32</td>\n",
       "    </tr>\n",
       "    <tr>\n",
       "      <td>3</td>\n",
       "      <td>5.219225</td>\n",
       "      <td>4.818791</td>\n",
       "      <td>0.263179</td>\n",
       "      <td>00:32</td>\n",
       "    </tr>\n",
       "    <tr>\n",
       "      <td>4</td>\n",
       "      <td>5.063414</td>\n",
       "      <td>4.808561</td>\n",
       "      <td>0.263706</td>\n",
       "      <td>00:32</td>\n",
       "    </tr>\n",
       "  </tbody>\n",
       "</table>"
      ],
      "text/plain": [
       "<IPython.core.display.HTML object>"
      ]
     },
     "metadata": {},
     "output_type": "display_data"
    }
   ],
   "source": [
    "learn.fit_one_cycle(5, 1e-2)"
   ]
  },
  {
   "cell_type": "code",
   "execution_count": 59,
   "metadata": {},
   "outputs": [],
   "source": [
    "learn.save_encoder('palautetesti_10epoch_bs200')"
   ]
  },
  {
   "cell_type": "markdown",
   "metadata": {},
   "source": [
    "# 5 Train the classifier with the finetuned pretrained language model"
   ]
  },
  {
   "cell_type": "code",
   "execution_count": 22,
   "metadata": {},
   "outputs": [],
   "source": [
    "#configs to make the awd-lstm architecture work (at least n_hid is different in newer version of fastai)\n",
    "config_clas = {'emb_sz': 400,\n",
    " 'n_hid': 1150,\n",
    " 'n_layers': 3,\n",
    " 'pad_token': 1,\n",
    " 'qrnn': False,\n",
    " 'bidir': False,\n",
    " 'output_p': 0.1,\n",
    " 'hidden_p': 0.15,\n",
    " 'input_p': 0.25,\n",
    " 'embed_p': 0.02,\n",
    " 'weight_p': 0.2}"
   ]
  },
  {
   "cell_type": "code",
   "execution_count": 23,
   "metadata": {},
   "outputs": [],
   "source": [
    "#Let's choose a few specific classes from year 2017 for the classification task\n",
    "\n",
    "clas_train_df = data_df[(data_df['palaute_pvm']>=datetime.date(2017,1,1))&\n",
    "    (data_df['aihe'].isin(\n",
    "    ['Kadut ajoradat',\n",
    "     'Jalkakäytävät',\n",
    "     'Liikennemerkit- ja viitoitukset',\n",
    "     'Ulkovalaistus',\n",
    "     'Viheralueet, puistot']\n",
    "                        )\n",
    "    )\n",
    "       ][['aihe','palaute']]\n",
    "\n",
    "clas_train_df.columns=['label','content']\n",
    "# split data into training and validation set\n",
    "clas_df_trn, clas_df_val = train_test_split(clas_train_df, stratify = clas_train_df['label'], test_size = 0.4, random_state = 12)"
   ]
  },
  {
   "cell_type": "code",
   "execution_count": 41,
   "metadata": {},
   "outputs": [],
   "source": [
    "#Creating a databunch. Note that the vocabulary must match the vocabulary of the language model\n",
    "data_clas = TextClasDataBunch.from_df(path = \"\", train_df = clas_df_trn, valid_df = clas_df_val, vocab=data_lm.vocab)"
   ]
  },
  {
   "cell_type": "code",
   "execution_count": 81,
   "metadata": {
    "scrolled": true
   },
   "outputs": [],
   "source": [
    "#Creating the learner and loarding the pretrained, finetuned language model\n",
    "learn = text_classifier_learner(data_clas, config=config_clas, arch=AWD_LSTM, drop_mult=0.7)\n",
    "learn.load_encoder('palautetesti_10epoch_bs200')"
   ]
  },
  {
   "cell_type": "markdown",
   "metadata": {},
   "source": [
    "## 5.1 Train the classifier using gradual unfreezing to boost performance (otherwise prone to catasthropic forgetting)"
   ]
  },
  {
   "cell_type": "markdown",
   "metadata": {},
   "source": [
    "First we freeze everything up to the last layer, find a good learning rate to use for cyclic learning rate. Then we save, load, freeze up to the second to last and so on. Finally we finetune the whole model"
   ]
  },
  {
   "cell_type": "code",
   "execution_count": 82,
   "metadata": {},
   "outputs": [],
   "source": [
    "learn.freeze_to(-1)"
   ]
  },
  {
   "cell_type": "code",
   "execution_count": 83,
   "metadata": {},
   "outputs": [
    {
     "data": {
      "text/html": [],
      "text/plain": [
       "<IPython.core.display.HTML object>"
      ]
     },
     "metadata": {},
     "output_type": "display_data"
    },
    {
     "name": "stdout",
     "output_type": "stream",
     "text": [
      "LR Finder is complete, type {learner_name}.recorder.plot() to see the graph.\n"
     ]
    },
    {
     "data": {
      "image/png": "[encoded data removed]",
      "text/plain": [
       "<Figure size 432x288 with 1 Axes>"
      ]
     },
     "metadata": {
      "needs_background": "light"
     },
     "output_type": "display_data"
    }
   ],
   "source": [
    "learn.lr_find()\n",
    "learn.recorder.plot()"
   ]
  },
  {
   "cell_type": "code",
   "execution_count": 84,
   "metadata": {},
   "outputs": [
    {
     "data": {
      "text/html": [
       "<table border=\"1\" class=\"dataframe\">\n",
       "  <thead>\n",
       "    <tr style=\"text-align: left;\">\n",
       "      <th>epoch</th>\n",
       "      <th>train_loss</th>\n",
       "      <th>valid_loss</th>\n",
       "      <th>accuracy</th>\n",
       "      <th>time</th>\n",
       "    </tr>\n",
       "  </thead>\n",
       "  <tbody>\n",
       "    <tr>\n",
       "      <td>0</td>\n",
       "      <td>1.011256</td>\n",
       "      <td>0.812965</td>\n",
       "      <td>0.686137</td>\n",
       "      <td>00:05</td>\n",
       "    </tr>\n",
       "  </tbody>\n",
       "</table>"
      ],
      "text/plain": [
       "<IPython.core.display.HTML object>"
      ]
     },
     "metadata": {},
     "output_type": "display_data"
    }
   ],
   "source": [
    "# fit frozen model for one epoch\n",
    "learn.fit_one_cycle(1,1e-2)"
   ]
  },
  {
   "cell_type": "code",
   "execution_count": 85,
   "metadata": {},
   "outputs": [],
   "source": [
    "learn.save('clas_0')"
   ]
  },
  {
   "cell_type": "code",
   "execution_count": 86,
   "metadata": {},
   "outputs": [],
   "source": [
    "learn.load('clas_0')\n",
    "#Just put this here to avoid annoying outputs of learner stuff\n",
    "pass"
   ]
  },
  {
   "cell_type": "code",
   "execution_count": 87,
   "metadata": {},
   "outputs": [
    {
     "data": {
      "text/html": [
       "<table border=\"1\" class=\"dataframe\">\n",
       "  <thead>\n",
       "    <tr style=\"text-align: left;\">\n",
       "      <th>epoch</th>\n",
       "      <th>train_loss</th>\n",
       "      <th>valid_loss</th>\n",
       "      <th>accuracy</th>\n",
       "      <th>time</th>\n",
       "    </tr>\n",
       "  </thead>\n",
       "  <tbody>\n",
       "    <tr>\n",
       "      <td>0</td>\n",
       "      <td>0.891586</td>\n",
       "      <td>0.765280</td>\n",
       "      <td>0.699815</td>\n",
       "      <td>00:06</td>\n",
       "    </tr>\n",
       "  </tbody>\n",
       "</table>"
      ],
      "text/plain": [
       "<IPython.core.display.HTML object>"
      ]
     },
     "metadata": {},
     "output_type": "display_data"
    }
   ],
   "source": [
    "# unfreeze relu layer and fit another epoch\n",
    "learn.freeze_to(-2)\n",
    "\n",
    "learn.fit_one_cycle(1,1e-2)\n",
    "learn.save('clas_1')"
   ]
  },
  {
   "cell_type": "code",
   "execution_count": 88,
   "metadata": {},
   "outputs": [
    {
     "data": {
      "text/html": [],
      "text/plain": [
       "<IPython.core.display.HTML object>"
      ]
     },
     "metadata": {},
     "output_type": "display_data"
    },
    {
     "name": "stdout",
     "output_type": "stream",
     "text": [
      "LR Finder is complete, type {learner_name}.recorder.plot() to see the graph.\n"
     ]
    },
    {
     "data": {
      "image/png": "[encoded data removed]",
      "text/plain": [
       "<Figure size 432x288 with 1 Axes>"
      ]
     },
     "metadata": {
      "needs_background": "light"
     },
     "output_type": "display_data"
    }
   ],
   "source": [
    "# unfreeze all layers and execute final fit\n",
    "learn.load('clas_1')\n",
    "\n",
    "learn.unfreeze()\n",
    "\n",
    "learn.lr_find()\n",
    "learn.recorder.plot()\n",
    "\n",
    "#learn.fit_one_cycle(1,1e-2)\n"
   ]
  },
  {
   "cell_type": "code",
   "execution_count": 89,
   "metadata": {},
   "outputs": [
    {
     "data": {
      "text/html": [
       "<table border=\"1\" class=\"dataframe\">\n",
       "  <thead>\n",
       "    <tr style=\"text-align: left;\">\n",
       "      <th>epoch</th>\n",
       "      <th>train_loss</th>\n",
       "      <th>valid_loss</th>\n",
       "      <th>accuracy</th>\n",
       "      <th>time</th>\n",
       "    </tr>\n",
       "  </thead>\n",
       "  <tbody>\n",
       "    <tr>\n",
       "      <td>0</td>\n",
       "      <td>0.693181</td>\n",
       "      <td>0.596525</td>\n",
       "      <td>0.786322</td>\n",
       "      <td>00:09</td>\n",
       "    </tr>\n",
       "    <tr>\n",
       "      <td>1</td>\n",
       "      <td>0.494094</td>\n",
       "      <td>0.518075</td>\n",
       "      <td>0.821072</td>\n",
       "      <td>00:08</td>\n",
       "    </tr>\n",
       "    <tr>\n",
       "      <td>2</td>\n",
       "      <td>0.297427</td>\n",
       "      <td>0.509837</td>\n",
       "      <td>0.829945</td>\n",
       "      <td>00:09</td>\n",
       "    </tr>\n",
       "  </tbody>\n",
       "</table>"
      ],
      "text/plain": [
       "<IPython.core.display.HTML object>"
      ]
     },
     "metadata": {},
     "output_type": "display_data"
    }
   ],
   "source": [
    "#seems to overfit when looking at the losses, but the valid loss keeps decreasing so seems ok\n",
    "learn.fit_one_cycle(3, slice(2e-03,1e-02))"
   ]
  },
  {
   "cell_type": "code",
   "execution_count": 90,
   "metadata": {},
   "outputs": [],
   "source": [
    "learn.save('clas_2')"
   ]
  },
  {
   "cell_type": "markdown",
   "metadata": {},
   "source": [
    "# 6 Interpreting results"
   ]
  },
  {
   "cell_type": "code",
   "execution_count": 91,
   "metadata": {},
   "outputs": [],
   "source": [
    "interp = learn.interpret()\n",
    "txt_ci = TextClassificationInterpretation.from_learner(learn)"
   ]
  },
  {
   "cell_type": "code",
   "execution_count": 92,
   "metadata": {},
   "outputs": [
    {
     "data": {
      "image/png": "[encoded data removed]",
      "text/plain": [
       "<Figure size 432x432 with 1 Axes>"
      ]
     },
     "metadata": {
      "needs_background": "light"
     },
     "output_type": "display_data"
    }
   ],
   "source": [
    "interp.plot_confusion_matrix(normalize=True,figsize=(6,6))"
   ]
  },
  {
   "cell_type": "code",
   "execution_count": 77,
   "metadata": {},
   "outputs": [
    {
     "data": {
      "text/html": [
       "<table border=\"1\" class=\"dataframe\">\n",
       "  <thead>\n",
       "    <tr style=\"text-align: right;\">\n",
       "      <th>text</th>\n",
       "      <th>target</th>\n",
       "      <th>prediction</th>\n",
       "    </tr>\n",
       "  </thead>\n",
       "  <tbody>\n",
       "    <tr>\n",
       "      <td>xxbos xxmaj hei ! xxmaj lähetin pysäköinninvalvontaan 12.6.2017 viestin , joka tämän viestin lopussa liitteenä . xxunk xxmaj holtiton pysäköinti \" xxmaj port xxmaj aboa \" -alueella jatkuu vaan . xxmaj tämä aiheuttaa xxunk , roskaantumista ja nyt myös meluhaittaa sekä ympäristöhaittaa . xxunk xxmaj puistomaiselle xxunk xxmaj pitkäsalmen rantaan asuintalojen eteen pysäköidään xxunk matkailuautoja , venetrailereita ja jopa trailerin päällä olevia veneitä viikkokausiksi . xxunk xxmaj uusin ilmiö on</td>\n",
       "      <td>Kadut ajoradat</td>\n",
       "      <td>Kadut ajoradat</td>\n",
       "    </tr>\n",
       "    <tr>\n",
       "      <td>xxbos xxmaj hei , xxunk xxmaj olen jälleen tänäkin vuonna , nyt ensin elokuussa ja uudestaan syyskuussa ( ks . alla ) lähettänyt viestiä xxmaj vartiovuoren puiston xxmaj uudenmaankadun puoleisen alueen surkeasta kunnosta . xxunk xxmaj teen työtä kotona , ja lokakuussa jo hieman innostuin , kun xxmaj kuntecin pieni nosturi tuli alueelle kera kahden työntekijän . xxmaj ajattelin , että vihdoin viimein kaupunki tulee siistimään tätä puolta puistosta .</td>\n",
       "      <td>Viheralueet, puistot</td>\n",
       "      <td>Viheralueet, puistot</td>\n",
       "    </tr>\n",
       "    <tr>\n",
       "      <td>xxbos xxmaj nummenmäen uusien katuvalojen xxunk laatu ei ainoastaan pilaa alueen xxunk öiseen aikaan vaan on myös vakava terveyshaitta ja xxunk . xxmaj valot ovat xxunk kirkkaudessaan niin xxunk , että ne aiheuttavat silmissä suoranaista xxunk kipua . xxmaj sen vuoksi jalankulkija ei voi katsoa niiden suuntaan , vaan katse on kävellessä koko ajan pidettävä niistä poispäin käännettynä . xxmaj tämä vaikeuttaa suuresti liikenteen ja muiden ympäristössä tapahtuvien asioiden seuraamista</td>\n",
       "      <td>Ulkovalaistus</td>\n",
       "      <td>Ulkovalaistus</td>\n",
       "    </tr>\n",
       "    <tr>\n",
       "      <td>xxbos xxmaj maisemien xxunk kauneutta xxunk xxmaj vierailin heinäkuussa puolisoni ja muutamien ystävien kanssa katselemassa suuria xxunk ja muutenkin xxmaj turkua . xxmaj tuli xxunk kohtalaisen paljon . xxmaj xxunk xxmaj xxunk , xxmaj port xxmaj xxunk xxunk xxmaj xxunk , xxmaj xxunk xxmaj tuomiokirkkoon , xxmaj xxunk toisena päivänä myös kukkuloille xxmaj samppalinnanmäki , xxmaj xxunk , xxmaj puolalanmäki . xxmaj xxunk xxmaj turkua . xxmaj useasti kaupungissa xxunk</td>\n",
       "      <td>Viheralueet, puistot</td>\n",
       "      <td>Viheralueet, puistot</td>\n",
       "    </tr>\n",
       "    <tr>\n",
       "      <td>xxbos xxmaj hei , olen xxunk skootterilla ajava tyttö xxmaj hirvensalosta . xxmaj en ole varma kuuluuko tämä moite , xxunk vai xxunk , mutta toivoisin että tämä herättää xxunk . xxmaj hirvensalon alueella liikkuu paljon nuoria mopo- ja xxunk . xxmaj xxunk mukaan mopo kulkee 45 km / h. xxmaj välillä nämä xxunk liikennettä , mikä saattaa ärsyttää autoilijoita , mutta yleensä ohituspaikkoja suorilla on monia . xxmaj mopon</td>\n",
       "      <td>Kadut ajoradat</td>\n",
       "      <td>Kadut ajoradat</td>\n",
       "    </tr>\n",
       "  </tbody>\n",
       "</table>"
      ],
      "text/plain": [
       "<IPython.core.display.HTML object>"
      ]
     },
     "metadata": {},
     "output_type": "display_data"
    }
   ],
   "source": [
    "learn.show_results()"
   ]
  },
  {
   "cell_type": "markdown",
   "metadata": {},
   "source": [
    "## 6.1 Trying out some random sentences I made up"
   ]
  },
  {
   "cell_type": "code",
   "execution_count": 89,
   "metadata": {},
   "outputs": [
    {
     "name": "stdout",
     "output_type": "stream",
     "text": [
      "Viheralueet, puistot\n",
      "tensor([3.6203e-02, 3.0603e-03, 4.2183e-04, 1.5092e-03, 9.5881e-01])\n"
     ]
    }
   ],
   "source": [
    "teksti = 'Astuin Kupittaalla koiranläjään!! Voisiko aluetta siivota?'\n",
    "\n",
    "print(learn.predict(teksti)[0])\n",
    "print(learn.predict(teksti)[2])"
   ]
  },
  {
   "cell_type": "code",
   "execution_count": 90,
   "metadata": {},
   "outputs": [
    {
     "name": "stdout",
     "output_type": "stream",
     "text": [
      "Ulkovalaistus\n",
      "tensor([4.4495e-04, 3.3785e-04, 8.5975e-05, 9.9897e-01, 1.5825e-04])\n"
     ]
    }
   ],
   "source": [
    "teksti = 'Visiirikadulla on myöhään illalla niin pimeää, että en löydä kotiin'\n",
    "\n",
    "print(learn.predict(teksti)[0])\n",
    "print(learn.predict(teksti)[2])"
   ]
  },
  {
   "cell_type": "code",
   "execution_count": 91,
   "metadata": {},
   "outputs": [
    {
     "name": "stdout",
     "output_type": "stream",
     "text": [
      "Liikennemerkit- ja viitoitukset\n",
      "tensor([3.7320e-03, 4.7904e-03, 9.8346e-01, 7.8896e-04, 7.2306e-03])\n"
     ]
    }
   ],
   "source": [
    "teksti = 'Santapohjantien kyltti on likainen ja pensaan peittämä'\n",
    "\n",
    "print(learn.predict(teksti)[0])\n",
    "print(learn.predict(teksti)[2])"
   ]
  },
  {
   "cell_type": "markdown",
   "metadata": {},
   "source": [
    "The model seems to perform quite ok, at least when compared to the amount of work required to create it from the pretrained LM! This notebook can be forked to other problems too, of course."
   ]
  },
  {
   "cell_type": "markdown",
   "metadata": {},
   "source": [
    "# 7 exporting the model"
   ]
  },
  {
   "cell_type": "markdown",
   "metadata": {},
   "source": [
    "Fastai needs all kinds of stuff to be able to load a saved model. Even though we saved the weights of the model in the training phase with the saving/loading etc. , they are useless without the vocabularies and specifications of the architecture where they fit. \n",
    "\n",
    "The vocabulary is needed to know how to embed the different words as vectors, and the architecture is of course needed to know which weight goes where. To make using the model in the future more convenient, it is thus best to export everything in one \"package\" with the learn.export() method"
   ]
  },
  {
   "cell_type": "code",
   "execution_count": 97,
   "metadata": {},
   "outputs": [],
   "source": [
    "learn.export('turku_feedback_classifier')"
   ]
  },
  {
   "cell_type": "markdown",
   "metadata": {},
   "source": [
    "The exported model can then be easily loaded and used to make predictions in a production system (if you are crazy enough to use fastai for production), Kaggle submissions etc. like so:"
   ]
  },
  {
   "cell_type": "code",
   "execution_count": 104,
   "metadata": {},
   "outputs": [],
   "source": [
    "learn2 = load_learner(path='./',file='turku_feedback_classifier')"
   ]
  },
  {
   "cell_type": "code",
   "execution_count": 105,
   "metadata": {},
   "outputs": [
    {
     "data": {
      "text/plain": [
       "(Category Liikennemerkit- ja viitoitukset,\n",
       " tensor(2),\n",
       " tensor([0.0026, 0.0148, 0.9298, 0.0431, 0.0097]))"
      ]
     },
     "execution_count": 105,
     "metadata": {},
     "output_type": "execute_result"
    }
   ],
   "source": [
    "learn2.predict('Santapohjantien kyltti on likainen ja pensaan peittämä')"
   ]
  },
  {
   "cell_type": "code",
   "execution_count": null,
   "metadata": {},
   "outputs": [],
   "source": []
  }
 ],
 "metadata": {
  "kernelspec": {
   "display_name": "Python 3",
   "language": "python",
   "name": "python3"
  },
  "language_info": {
   "codemirror_mode": {
    "name": "ipython",
    "version": 3
   },
   "file_extension": ".py",
   "mimetype": "text/x-python",
   "name": "python",
   "nbconvert_exporter": "python",
   "pygments_lexer": "ipython3",
   "version": "3.6.8"
  }
 },
 "nbformat": 4,
 "nbformat_minor": 2
}
